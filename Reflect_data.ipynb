{
 "cells": [
  {
   "cell_type": "code",
   "execution_count": 1,
   "metadata": {},
   "outputs": [],
   "source": [
    "# Python SQL toolkit and Object Relational Mapper\n",
    "import sqlalchemy\n",
    "from sqlalchemy.ext.automap import automap_base\n",
    "from sqlalchemy.orm import Session\n",
    "from sqlalchemy import create_engine, func\n"
   ]
  },
  {
   "cell_type": "code",
   "execution_count": 2,
   "metadata": {},
   "outputs": [],
   "source": [
    "# Create engine\n",
    "engine = create_engine(\"sqlite:///space1.db\")"
   ]
  },
  {
   "cell_type": "code",
   "execution_count": 3,
   "metadata": {},
   "outputs": [],
   "source": [
    "# reflect an existing database into a new model\n",
    "Base = automap_base()\n",
    "\n",
    "# reflect the tables\n",
    "Base.prepare(engine, reflect=True)"
   ]
  },
  {
   "cell_type": "code",
   "execution_count": 4,
   "metadata": {},
   "outputs": [
    {
     "data": {
      "text/plain": [
       "['astronauts', 'global_space_launches', 'space_missions', 'space_walks']"
      ]
     },
     "execution_count": 4,
     "metadata": {},
     "output_type": "execute_result"
    }
   ],
   "source": [
    "# View all of the classes that automap found\n",
    "Base.classes.keys()"
   ]
  },
  {
   "cell_type": "code",
   "execution_count": 5,
   "metadata": {},
   "outputs": [],
   "source": [
    "# Save refefernces to each table\n",
    "Astronauts = Base.classes.astronauts\n",
    "SpaceLaunches = Base.classes.global_space_launches\n",
    "SpaceMission = Base.classes.space_missions\n",
    "SpaceWalks = Base.classes.space_walks"
   ]
  },
  {
   "cell_type": "code",
   "execution_count": 6,
   "metadata": {},
   "outputs": [],
   "source": [
    "# Create session link from Python to DB\n",
    "session = Session(engine)"
   ]
  },
  {
   "cell_type": "code",
   "execution_count": 7,
   "metadata": {},
   "outputs": [
    {
     "data": {
      "text/plain": [
       "{'_sa_instance_state': <sqlalchemy.orm.state.InstanceState at 0x1dd710a7128>,\n",
       " 'UndergraduateMajor': 'Geology',\n",
       " 'Gender': 'Male',\n",
       " 'BirthDate': '5/17/1967',\n",
       " 'Group': '19',\n",
       " 'Missions': 'STS-119 (Discovery), ISS-31/32 (Soyuz)',\n",
       " 'DeathMission': None,\n",
       " 'SpaceWalks(hr)': 13,\n",
       " 'SpaceFlight(hr)': 3307,\n",
       " 'MilitaryBranch': None,\n",
       " 'GraduateMajor': 'Geology',\n",
       " 'AlmaMater': 'University of California-Santa Barbara; University of Arizona',\n",
       " 'BirthPlace': 'Inglewood, CA',\n",
       " 'Status': 'Active',\n",
       " 'Year': '2004',\n",
       " 'Name': 'Joseph M. Acaba',\n",
       " 'DeathDate': None,\n",
       " 'SpaceWalks': 2,\n",
       " 'SpaceFlights': 2,\n",
       " 'MilitaryRank': None}"
      ]
     },
     "execution_count": 7,
     "metadata": {},
     "output_type": "execute_result"
    }
   ],
   "source": [
    "# View Astronauts columns\n",
    "first_row = session.query(Astronauts).first()\n",
    "first_row.__dict__"
   ]
  },
  {
   "cell_type": "code",
   "execution_count": 8,
   "metadata": {},
   "outputs": [
    {
     "data": {
      "text/plain": [
       "{'_sa_instance_state': <sqlalchemy.orm.state.InstanceState at 0x1dd710b0c50>,\n",
       " 'StatusMission': 'Success',\n",
       " 'StatusRocket': 'StatusActive',\n",
       " 'Location': 'LC-39A, Kennedy Space Center, Florida, USA',\n",
       " 'ID': 1,\n",
       " 'Date': '07/08/2020',\n",
       " 'Day': 7,\n",
       " 'Year': 2020,\n",
       " 'PrivateorStateRun': 'P',\n",
       " 'CountryofLaunch': 'USA',\n",
       " 'Rocket': '50.0',\n",
       " 'Detail': 'Falcon 9 Block 5 | Starlink V1 L9 & BlackSky',\n",
       " 'CompanyName': 'SpaceX',\n",
       " 'Time': '05:12',\n",
       " 'Month': 8,\n",
       " 'DateTime': '2020-08-07 05:12:00+00:00',\n",
       " 'CompanysCountryofOrigin': 'USA'}"
      ]
     },
     "execution_count": 8,
     "metadata": {},
     "output_type": "execute_result"
    }
   ],
   "source": [
    "# View SpaceLaunches columns\n",
    "first_row = session.query(SpaceLaunches).first()\n",
    "first_row.__dict__"
   ]
  },
  {
   "cell_type": "code",
   "execution_count": 9,
   "metadata": {},
   "outputs": [
    {
     "data": {
      "text/plain": [
       "{'_sa_instance_state': <sqlalchemy.orm.state.InstanceState at 0x1dd710b58d0>,\n",
       " 'Detail': 'Falcon 9 Block 5 | Starlink V1 L9 & BlackSky',\n",
       " 'Location': 'LC-39A, Kennedy Space Center, Florida, USA',\n",
       " 'Unnamed:0': 0,\n",
       " 'StatusMission': 'Success',\n",
       " 'StatusRocket': 'StatusActive',\n",
       " 'Datum': 'Fri Aug 07, 2020 05:12 UTC',\n",
       " 'CompanyName': 'SpaceX',\n",
       " 'field1': 0,\n",
       " 'Rocket': '50.0'}"
      ]
     },
     "execution_count": 9,
     "metadata": {},
     "output_type": "execute_result"
    }
   ],
   "source": [
    "# View SpaceMissions columns\n",
    "first_row = session.query(SpaceMission).first()\n",
    "first_row.__dict__"
   ]
  },
  {
   "cell_type": "code",
   "execution_count": 10,
   "metadata": {},
   "outputs": [
    {
     "data": {
      "text/plain": [
       "{'_sa_instance_state': <sqlalchemy.orm.state.InstanceState at 0x1dd710ba6d8>,\n",
       " 'Purpose': 'First U.S. EVA. Used HHMU and took  photos.  Gas flow cooling of 25ft umbilical overwhelmed by vehicle ingress work and helmet fogged.  Lost overglove.  Jettisoned thermal gloves and helmet sun visor',\n",
       " 'Date': '06/03/1965',\n",
       " 'Vehicle': 'Gemini IV',\n",
       " 'Country': 'USA',\n",
       " 'ID': 1,\n",
       " 'Duration': '0:36',\n",
       " 'Crew': 'Ed White',\n",
       " 'EVA#': 1}"
      ]
     },
     "execution_count": 10,
     "metadata": {},
     "output_type": "execute_result"
    }
   ],
   "source": [
    "# View SpaceWalks columns\n",
    "first_row = session.query(SpaceWalks).first()\n",
    "first_row.__dict__"
   ]
  },
  {
   "cell_type": "code",
   "execution_count": 14,
   "metadata": {},
   "outputs": [],
   "source": [
    "# Space walk query\n",
    "walk_summary = session.query(SpaceWalks.Crew, SpaceWalks.Purpose, SpaceWalks.Date)\n",
    "\n"
   ]
  },
  {
   "cell_type": "code",
   "execution_count": 21,
   "metadata": {},
   "outputs": [
    {
     "data": {
      "text/plain": [
       "'Neil Armstrong|Buzz Aldrin'"
      ]
     },
     "execution_count": 21,
     "metadata": {},
     "output_type": "execute_result"
    }
   ],
   "source": [
    "# Create output\n",
    "crew = [row[0] for row in walk_summary]\n",
    "purpose = [row[1] for row in walk_summary]\n",
    "date = [row[2] for row in walk_summary]\n",
    "\n",
    "crew[12]\n"
   ]
  }
 ],
 "metadata": {
  "kernelspec": {
   "display_name": "Python 3",
   "language": "python",
   "name": "python3"
  },
  "language_info": {
   "codemirror_mode": {
    "name": "ipython",
    "version": 3
   },
   "file_extension": ".py",
   "mimetype": "text/x-python",
   "name": "python",
   "nbconvert_exporter": "python",
   "pygments_lexer": "ipython3",
   "version": "3.6.10"
  }
 },
 "nbformat": 4,
 "nbformat_minor": 4
}
