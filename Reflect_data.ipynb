{
 "cells": [
  {
   "cell_type": "code",
   "execution_count": 75,
   "metadata": {},
   "outputs": [],
   "source": [
    "# Python SQL toolkit and Object Relational Mapper\n",
    "import sqlalchemy\n",
    "from sqlalchemy.ext.automap import automap_base\n",
    "from sqlalchemy.orm import Session\n",
    "from sqlalchemy import create_engine, func\n"
   ]
  },
  {
   "cell_type": "code",
   "execution_count": 76,
   "metadata": {},
   "outputs": [],
   "source": [
    "# Create engine\n",
    "engine = create_engine(\"sqlite:///space1.db\")"
   ]
  },
  {
   "cell_type": "code",
   "execution_count": 77,
   "metadata": {},
   "outputs": [],
   "source": [
    "# reflect an existing database into a new model\n",
    "Base = automap_base()\n",
    "\n",
    "# reflect the tables\n",
    "Base.prepare(engine, reflect=True)"
   ]
  },
  {
   "cell_type": "code",
   "execution_count": 78,
   "metadata": {},
   "outputs": [
    {
     "data": {
      "text/plain": [
       "['astronauts', 'global_space_launches', 'space_missions', 'space_walks']"
      ]
     },
     "execution_count": 78,
     "metadata": {},
     "output_type": "execute_result"
    }
   ],
   "source": [
    "# View all of the classes that automap found\n",
    "Base.classes.keys()"
   ]
  },
  {
   "cell_type": "code",
   "execution_count": 85,
   "metadata": {},
   "outputs": [],
   "source": [
    "# Save refefernces to each table\n",
    "Astronauts = Base.classes.astronauts\n",
    "SpaceLaunches = Base.classes.global_space_launches\n",
    "SpaceMission = Base.classes.space_missions\n",
    "SpaceWalks = Base.classes.space_walks"
   ]
  },
  {
   "cell_type": "code",
   "execution_count": 80,
   "metadata": {},
   "outputs": [],
   "source": [
    "# Create session link from Python to DB\n",
    "session = Session(engine)"
   ]
  },
  {
   "cell_type": "code",
   "execution_count": 81,
   "metadata": {},
   "outputs": [
    {
     "data": {
      "text/plain": [
       "{'_sa_instance_state': <sqlalchemy.orm.state.InstanceState at 0x2b340879518>,\n",
       " 'Name': 'Joseph M. Acaba',\n",
       " 'SpaceWalks': 2,\n",
       " 'SpaceFlights': 2,\n",
       " 'MilitaryRank': None,\n",
       " 'UndergraduateMajor': 'Geology',\n",
       " 'Missions': 'STS-119 (Discovery), ISS-31/32 (Soyuz)',\n",
       " 'DeathMission': None,\n",
       " 'AlmaMater': 'University of California-Santa Barbara; University of Arizona',\n",
       " 'BirthPlace': 'Inglewood, CA',\n",
       " 'Status': 'Active',\n",
       " 'Year': '2004',\n",
       " 'SpaceWalks(hr)': 13,\n",
       " 'SpaceFlight(hr)': 3307,\n",
       " 'MilitaryBranch': None,\n",
       " 'GraduateMajor': 'Geology',\n",
       " 'DeathDate': None,\n",
       " 'Gender': 'Male',\n",
       " 'BirthDate': '5/17/1967',\n",
       " 'Group': '19'}"
      ]
     },
     "execution_count": 81,
     "metadata": {},
     "output_type": "execute_result"
    }
   ],
   "source": [
    "# View Astronauts columns\n",
    "first_row = session.query(Astronauts).first()\n",
    "first_row.__dict__"
   ]
  },
  {
   "cell_type": "code",
   "execution_count": 82,
   "metadata": {},
   "outputs": [
    {
     "data": {
      "text/plain": [
       "{'_sa_instance_state': <sqlalchemy.orm.state.InstanceState at 0x2b340777978>,\n",
       " 'CompanyName': 'SpaceX',\n",
       " 'Time': '05:12',\n",
       " 'Day': 7,\n",
       " 'Year': 2020,\n",
       " 'PrivateorStateRun': 'P',\n",
       " 'CompanysCountryofOrigin': 'USA',\n",
       " 'StatusMission': 'Success',\n",
       " 'StatusRocket': 'StatusActive',\n",
       " 'Location': 'LC-39A, Kennedy Space Center, Florida, USA',\n",
       " 'ID': 1,\n",
       " 'Date': '07/08/2020',\n",
       " 'Month': 8,\n",
       " 'DateTime': '2020-08-07 05:12:00+00:00',\n",
       " 'CountryofLaunch': 'USA',\n",
       " 'Rocket': '50.0',\n",
       " 'Detail': 'Falcon 9 Block 5 | Starlink V1 L9 & BlackSky'}"
      ]
     },
     "execution_count": 82,
     "metadata": {},
     "output_type": "execute_result"
    }
   ],
   "source": [
    "# View SpaceLaunches columns\n",
    "first_row = session.query(SpaceLaunches).first()\n",
    "first_row.__dict__"
   ]
  },
  {
   "cell_type": "code",
   "execution_count": 86,
   "metadata": {},
   "outputs": [
    {
     "data": {
      "text/plain": [
       "{'_sa_instance_state': <sqlalchemy.orm.state.InstanceState at 0x2b340772908>,\n",
       " 'Rocket': '50.0',\n",
       " 'Detail': 'Falcon 9 Block 5 | Starlink V1 L9 & BlackSky',\n",
       " 'Location': 'LC-39A, Kennedy Space Center, Florida, USA',\n",
       " 'Unnamed:0': 0,\n",
       " 'field1': 0,\n",
       " 'StatusMission': 'Success',\n",
       " 'StatusRocket': 'StatusActive',\n",
       " 'Datum': 'Fri Aug 07, 2020 05:12 UTC',\n",
       " 'CompanyName': 'SpaceX'}"
      ]
     },
     "execution_count": 86,
     "metadata": {},
     "output_type": "execute_result"
    }
   ],
   "source": [
    "# View SpaceMissions columns\n",
    "first_row = session.query(SpaceMission).first()\n",
    "first_row.__dict__"
   ]
  },
  {
   "cell_type": "code",
   "execution_count": 87,
   "metadata": {},
   "outputs": [
    {
     "data": {
      "text/plain": [
       "{'_sa_instance_state': <sqlalchemy.orm.state.InstanceState at 0x2b340772550>,\n",
       " 'Purpose': 'First U.S. EVA. Used HHMU and took  photos.  Gas flow cooling of 25ft umbilical overwhelmed by vehicle ingress work and helmet fogged.  Lost overglove.  Jettisoned thermal gloves and helmet sun visor',\n",
       " 'Date': '06/03/1965',\n",
       " 'Crew': 'Ed White',\n",
       " 'Country': 'USA',\n",
       " 'EVA#': 1,\n",
       " 'ID': 1,\n",
       " 'Duration': '0:36',\n",
       " 'Vehicle': 'Gemini IV'}"
      ]
     },
     "execution_count": 87,
     "metadata": {},
     "output_type": "execute_result"
    }
   ],
   "source": [
    "# View SpaceWalks columns\n",
    "first_row = session.query(SpaceWalks).first()\n",
    "first_row.__dict__"
   ]
  },
  {
   "cell_type": "code",
   "execution_count": null,
   "metadata": {},
   "outputs": [],
   "source": [
    "# Test space walk joined query\n",
    "\n"
   ]
  },
  {
   "cell_type": "code",
   "execution_count": null,
   "metadata": {},
   "outputs": [],
   "source": []
  }
 ],
 "metadata": {
  "kernelspec": {
   "display_name": "Python 3",
   "language": "python",
   "name": "python3"
  },
  "language_info": {
   "codemirror_mode": {
    "name": "ipython",
    "version": 3
   },
   "file_extension": ".py",
   "mimetype": "text/x-python",
   "name": "python",
   "nbconvert_exporter": "python",
   "pygments_lexer": "ipython3",
   "version": "3.6.10"
  }
 },
 "nbformat": 4,
 "nbformat_minor": 4
}
